{
  "nbformat": 4,
  "nbformat_minor": 0,
  "metadata": {
    "colab": {
      "provenance": []
    },
    "kernelspec": {
      "name": "python3",
      "display_name": "Python 3"
    },
    "language_info": {
      "name": "python"
    }
  },
  "cells": [
    {
      "cell_type": "code",
      "execution_count": null,
      "metadata": {
        "id": "4fG3nnUveE78"
      },
      "outputs": [],
      "source": [
        "import warnings\n",
        "warnings.filterwarnings(\"ignore\", category=FutureWarning)\n",
        "df = pd.read_csv('./churn_data.csv')\n",
        "df[\"date_activ\"] = pd.to_datetime(df[\"date_activ\"], format='%Y-%m-%d')\n",
        "df[\"date_end\"] = pd.to_datetime(df[\"date_end\"], format='%Y-%m-%d')\n",
        "df[\"date_modif_prod\"] = pd.to_datetime(df[\"date_modif_prod\"], format='%Y-%m-%d')\n",
        "df[\"date_renewal\"] = pd.to_datetime(df[\"date_renewal\"], format='%Y-%m-%d')\n",
        "df.head(3)\n",
        "price_df = pd.read_csv('price_data.csv')\n",
        "price_df[\"price_date\"] = pd.to_datetime(price_df[\"price_date\"], format='%Y-%m-%d')\n",
        "price_df.head()\n",
        "# Group off-peak prices by companies and month\n",
        "monthly_price_by_id = price_df.groupby(['id', 'price_date']).agg({'price_off_peak_var': 'mean', 'price_off_peak_fix': 'mean'}).reset_index()\n",
        "\n",
        "# Get january and december prices\n",
        "jan_prices = monthly_price_by_id.groupby('id').first().reset_index()\n",
        "dec_prices = monthly_price_by_id.groupby('id').last().reset_index()\n",
        "\n",
        "# Calculate the difference\n",
        "diff = pd.merge(dec_prices.rename(columns={'price_off_peak_var': 'dec_1', 'price_off_peak_fix': 'dec_2'}), jan_prices.drop(columns='price_date'), on='id')\n",
        "diff['offpeak_diff_dec_january_energy'] = diff['dec_1'] - diff['price_off_peak_var']\n",
        "diff['offpeak_diff_dec_january_power'] = diff['dec_2'] - diff['price_off_peak_fix']\n",
        "diff = diff[['id', 'offpeak_diff_dec_january_energy','offpeak_diff_dec_january_power']]\n",
        "diff.head()\n",
        "df = pd.merge(df, diff, on='id')\n",
        "df.head()\n",
        "# Aggregate average prices per period by company\n",
        "mean_prices = price_df.groupby(['id']).agg({\n",
        "    'price_off_peak_var': 'mean',\n",
        "    'price_peak_var': 'mean',\n",
        "    'price_mid_peak_var': 'mean',\n",
        "    'price_off_peak_fix': 'mean',\n",
        "    'price_peak_fix': 'mean',\n",
        "    'price_mid_peak_fix': 'mean'\n",
        "}).reset_index()\n",
        "# Calculate the mean difference between consecutive periods\n",
        "mean_prices['off_peak_peak_var_mean_diff'] = mean_prices['price_off_peak_var'] - mean_prices['price_peak_var']\n",
        "mean_prices['peak_mid_peak_var_mean_diff'] = mean_prices['price_peak_var'] - mean_prices['price_mid_peak_var']\n",
        "mean_prices['off_peak_mid_peak_var_mean_diff'] = mean_prices['price_off_peak_var'] - mean_prices['price_mid_peak_var']\n",
        "mean_prices['off_peak_peak_fix_mean_diff'] = mean_prices['price_off_peak_fix'] - mean_prices['price_peak_fix']\n",
        "mean_prices['peak_mid_peak_fix_mean_diff'] = mean_prices['price_peak_fix'] - mean_prices['price_mid_peak_fix']\n",
        "mean_prices['off_peak_mid_peak_fix_mean_diff'] = mean_prices['price_off_peak_fix'] - mean_prices['price_mid_peak_fix']\n",
        "columns = [\n",
        "    'id',\n",
        "    'off_peak_peak_var_mean_diff',\n",
        "    'peak_mid_peak_var_mean_diff',\n",
        "    'off_peak_mid_peak_var_mean_diff',\n",
        "    'off_peak_peak_fix_mean_diff',\n",
        "    'peak_mid_peak_fix_mean_diff',\n",
        "    'off_peak_mid_peak_fix_mean_diff'\n",
        "]\n",
        "df = pd.merge(df, mean_prices[columns], on='id')\n",
        "df.head()\n",
        "# Aggregate average prices per period by company\n",
        "mean_prices_by_month = price_df.groupby(['id', 'price_date']).agg({\n",
        "    'price_off_peak_var': 'mean',\n",
        "    'price_peak_var': 'mean',\n",
        "    'price_mid_peak_var': 'mean',\n",
        "    'price_off_peak_fix': 'mean',\n",
        "    'price_peak_fix': 'mean',\n",
        "    'price_mid_peak_fix': 'mean'\n",
        "}).reset_index()\n",
        "df['tenure'] = ((df['date_end'] - df['date_activ'])/ np.timedelta64(1, 'Y')).astype(int)\n",
        "df.groupby(['tenure']).agg({'churn': 'mean'}).sort_values(by='churn', ascending=False)"
      ]
    }
  ]
}